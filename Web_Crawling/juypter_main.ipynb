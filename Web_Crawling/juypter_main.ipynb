{
 "cells": [
  {
   "cell_type": "markdown",
   "metadata": {},
   "source": [
    "<h3>Google Image Scrapper for Juypter Notebook</h3>"
   ]
  },
  {
   "cell_type": "code",
   "execution_count": 1,
   "metadata": {},
   "outputs": [],
   "source": [
    "#!pip install selenium==4.0.0a6"
   ]
  },
  {
   "cell_type": "code",
   "execution_count": 2,
   "metadata": {},
   "outputs": [],
   "source": [
    "from GoogleImageScrapper import GoogleImageScraper\n",
    "import os\n",
    "import time"
   ]
  },
  {
   "cell_type": "code",
   "execution_count": 3,
   "metadata": {},
   "outputs": [],
   "source": [
    "sleep_between_interactions = 1\n",
    "webdriver_path = os.getcwd()+\"/webdriver/chromedriver\"\n",
    "image_path = os.getcwd()+\"/images\""
   ]
  },
  {
   "cell_type": "code",
   "execution_count": 4,
   "metadata": {},
   "outputs": [
    {
     "name": "stdout",
     "output_type": "stream",
     "text": [
      "GoogleImageScraper Notification: Scraping for image link... Please wait.\n"
     ]
    },
    {
     "name": "stderr",
     "output_type": "stream",
     "text": [
      "/opt/anaconda3/lib/python3.8/site-packages/selenium/webdriver/remote/webdriver.py:430: UserWarning: find_element_by_* commands are deprecated. Please use find_element() instead\n",
      "  warnings.warn(\"find_element_by_* commands are deprecated. Please use find_element() instead\")\n",
      "/opt/anaconda3/lib/python3.8/site-packages/selenium/webdriver/remote/webdriver.py:649: UserWarning: find_elements_by_* commands are deprecated. Please use find_elements() instead\n",
      "  warnings.warn(\"find_elements_by_* commands are deprecated. Please use find_elements() instead\")\n"
     ]
    },
    {
     "name": "stdout",
     "output_type": "stream",
     "text": [
      "0. https://i.ytimg.com/vi/MPV2METPeJU/maxresdefault.jpg\n",
      "1. https://img.webmd.com/dtmcms/live/webmd/consumer_assets/site_images/article_thumbnails/other/dog_cool_summer_slideshow/1800x1200_dog_cool_summer_other.jpg\n",
      "2. https://media.nature.com/lw800/magazine-assets/d41586-020-01443-0/d41586-020-01443-0_17985512.jpg\n",
      "GoogleImageScraper Skip: Unable to get the link for this photo\n",
      "GoogleImageScraper Skip: Unable to get the link for this photo\n",
      "GoogleImageScraper Skip: Unable to get the link for this photo\n",
      "GoogleImageScraper Skip: Unable to get the link for this photo\n",
      "GoogleImageScraper Skip: Unable to get the link for this photo\n",
      "GoogleImageScraper Skip: Unable to get the link for this photo\n",
      "3. https://www.google.com/search/static/gs/animal/cover_images/m0bt9lr_cover.png\n",
      "GoogleImageScraper Skip: Unable to get the link for this photo\n",
      "GoogleImageScraper Skip: Unable to get the link for this photo\n",
      "GoogleImageScraper Skip: Unable to get the link for this photo\n",
      "4. https://cdn.mos.cms.futurecdn.net/WdhrVa7WpPrD8BRh7oAwCD-320-80.jpg\n",
      "GoogleImageScraper Notification: Saving Image... Please wait.\n",
      "0 .Image saved at: /Users/intaewoo/Downloads/2021-K-Digital-Training-main/Web_Crawling/images/dog0.jpg\n",
      "1 .Image saved at: /Users/intaewoo/Downloads/2021-K-Digital-Training-main/Web_Crawling/images/dog1.jpg\n",
      "2 .Image saved at: /Users/intaewoo/Downloads/2021-K-Digital-Training-main/Web_Crawling/images/dog2.jpg\n",
      "3 .Image saved at: /Users/intaewoo/Downloads/2021-K-Digital-Training-main/Web_Crawling/images/dog3.jpg\n",
      "4 .Image saved at: /Users/intaewoo/Downloads/2021-K-Digital-Training-main/Web_Crawling/images/dog4.jpg\n",
      "GoogleImageScraper Notification: Download Completed.\n"
     ]
    }
   ],
   "source": [
    "#image_path = os.getcwd()+\"\\\\photos\"\n",
    "#add new search key into array [\"cat\",\"t-shirt\",\"apple\",\"orange\",\"pear\",\"fish\"]\n",
    "#search_keys= [\"woodpecker\",\"owl\"]\n",
    "search_keys= [\"dog\"]\n",
    "number_of_images = 20\n",
    "headless = False\n",
    "#min_resolution = (width,height)\n",
    "min_resolution=(0,0)\n",
    "#max_resolution = (width,height)\n",
    "max_resolution=(2000,2000)\n",
    "for search_key in search_keys:\n",
    "    image_scrapper = GoogleImageScraper(webdriver_path,image_path,search_key,number_of_images,headless,min_resolution,max_resolution)\n",
    "    image_urls = image_scrapper.find_image_urls()\n",
    "    image_scrapper.save_images(image_urls)\n",
    "    time.sleep(sleep_between_interactions)"
   ]
  },
  {
   "cell_type": "code",
   "execution_count": null,
   "metadata": {},
   "outputs": [],
   "source": []
  },
  {
   "cell_type": "code",
   "execution_count": null,
   "metadata": {},
   "outputs": [],
   "source": []
  }
 ],
 "metadata": {
  "kernelspec": {
   "display_name": "Python 3",
   "language": "python",
   "name": "python3"
  },
  "language_info": {
   "codemirror_mode": {
    "name": "ipython",
    "version": 3
   },
   "file_extension": ".py",
   "mimetype": "text/x-python",
   "name": "python",
   "nbconvert_exporter": "python",
   "pygments_lexer": "ipython3",
   "version": "3.8.8"
  }
 },
 "nbformat": 4,
 "nbformat_minor": 4
}
