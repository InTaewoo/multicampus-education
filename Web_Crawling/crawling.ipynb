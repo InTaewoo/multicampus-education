{
 "cells": [
  {
   "cell_type": "code",
   "execution_count": 1,
   "id": "e8bca9e6-fed8-47ac-89e6-b8e7c93f5165",
   "metadata": {},
   "outputs": [],
   "source": [
    "from selenium import webdriver as wd\n",
    "from bs4 import BeautifulSoup as bs\n",
    "\n",
    "import time"
   ]
  },
  {
   "cell_type": "code",
   "execution_count": 2,
   "id": "29ab4e14-c5cd-47bc-bc39-bca4df1361b5",
   "metadata": {},
   "outputs": [],
   "source": [
    "url='https://www.naver.com/'"
   ]
  },
  {
   "cell_type": "code",
   "execution_count": 3,
   "id": "497c0d7c-1aec-440c-ac8d-d736443c420c",
   "metadata": {},
   "outputs": [],
   "source": [
    "driver = wd.Chrome(executable_path='./webdriver/chromedriver')"
   ]
  },
  {
   "cell_type": "code",
   "execution_count": 4,
   "id": "8e1fe354-67ee-449d-8bc3-a19005ac1cc6",
   "metadata": {},
   "outputs": [],
   "source": [
    "driver.get(url)"
   ]
  },
  {
   "cell_type": "code",
   "execution_count": 5,
   "id": "39e0cd5a-da00-49ee-82f8-1a29ed889ee9",
   "metadata": {},
   "outputs": [],
   "source": [
    "time.sleep(2)\n",
    "        \n",
    "soup = bs( driver.page_source, 'html.parser')"
   ]
  },
  {
   "cell_type": "code",
   "execution_count": 6,
   "id": "72671ac5-d865-4e19-8c1b-50c346a0f75f",
   "metadata": {},
   "outputs": [
    {
     "name": "stdout",
     "output_type": "stream",
     "text": [
      "<class 'bs4.element.ResultSet'> 1 <class 'list'>\n"
     ]
    }
   ],
   "source": [
    "data = soup.select('body')\n",
    "print( type(data), len(data), type(data[0].contents)  )"
   ]
  },
  {
   "cell_type": "code",
   "execution_count": null,
   "id": "f33edcda-07cf-457a-ba45-cd6b7e05dc96",
   "metadata": {},
   "outputs": [],
   "source": []
  }
 ],
 "metadata": {
  "kernelspec": {
   "display_name": "Python Multi",
   "language": "python",
   "name": "multi"
  },
  "language_info": {
   "codemirror_mode": {
    "name": "ipython",
    "version": 3
   },
   "file_extension": ".py",
   "mimetype": "text/x-python",
   "name": "python",
   "nbconvert_exporter": "python",
   "pygments_lexer": "ipython3",
   "version": "3.7.6"
  }
 },
 "nbformat": 4,
 "nbformat_minor": 5
}
