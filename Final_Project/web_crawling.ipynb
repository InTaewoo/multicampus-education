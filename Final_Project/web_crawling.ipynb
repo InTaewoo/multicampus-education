{
  "nbformat": 4,
  "nbformat_minor": 0,
  "metadata": {
    "colab": {
      "name": "web_crawling.ipynb",
      "provenance": [],
      "collapsed_sections": [],
      "authorship_tag": "ABX9TyMVmZgRvE3Etj9yoQUO3cjS",
      "include_colab_link": true
    },
    "kernelspec": {
      "name": "python3",
      "display_name": "Python 3"
    },
    "language_info": {
      "name": "python"
    }
  },
  "cells": [
    {
      "cell_type": "markdown",
      "metadata": {
        "id": "view-in-github",
        "colab_type": "text"
      },
      "source": [
        "<a href=\"https://colab.research.google.com/github/InTaewoo/multicampus-education/blob/main/Final_Project/web_crawling.ipynb\" target=\"_parent\"><img src=\"https://colab.research.google.com/assets/colab-badge.svg\" alt=\"Open In Colab\"/></a>"
      ]
    },
    {
      "cell_type": "code",
      "metadata": {
        "id": "c_jDBBBDOzim"
      },
      "source": [
        "import requests\n",
        "from pandas import DataFrame\n",
        "from bs4 import BeautifulSoup\n",
        "import re\n",
        "from datetime import datetime\n",
        "import os"
      ],
      "execution_count": 2,
      "outputs": []
    },
    {
      "cell_type": "code",
      "metadata": {
        "id": "sf7694zVQFOg"
      },
      "source": [
        "def crwaling(soup) :\n",
        "  # soup 객체에서 추출해야 하는 정보를 찾고 반환\n",
        "  # 각각의 href 페이지에 들어있는 기사 내용을 반환\n",
        "  return None\n",
        "  \n",
        "def get_href(soup) :\n",
        "  # soup 객체에서 추출해야 하는 정보를 찾고 반환\n",
        "  # 상위 페이지에서의 href를 찾아 리스트로 반환\n",
        "  return None\n",
        "\n",
        "def main():\n",
        "  list_href = []\n",
        "  list_content = []\n",
        "\n",
        "  url = 'https://vip.mk.co.kr/newSt/news/news_list2.php?sCode=12'\n",
        "  req = requests.get(url)\n",
        "  soup = BeautifulSoup(req.text, 'html.parser')\n",
        "\n",
        "  list_href = get_href(soup)\n",
        "  print(list_href)\n",
        "\n",
        "  for url in list_href :\n",
        "    href_req = requests.get(url)\n",
        "    href_soup = BeautifulSoup(href_req.text, 'html.parser')\n",
        "    result = crwaling(href_soup)\n",
        "    list_content.append(result)\n",
        "\n",
        "    print(list_content)\n",
        "\n",
        "  if __name__ == '__main__':\n",
        "    main()"
      ],
      "execution_count": 4,
      "outputs": []
    },
    {
      "cell_type": "code",
      "metadata": {
        "colab": {
          "base_uri": "https://localhost:8080/",
          "height": 130
        },
        "id": "mr3GLYBgQC9f",
        "outputId": "8cfb379d-3e40-4a47-9cb6-a54116f1a6b9"
      },
      "source": [
        "def get_href(soup):\n",
        "  # soup 객체에서 추출해야하는 정보를 찾고 반환\n",
        "  # 상위 페이지에서의 href를 찾아 리스트로 반환\n",
        "  div = soup.find('td',class='title')"
      ],
      "execution_count": 5,
      "outputs": [
        {
          "output_type": "error",
          "ename": "SyntaxError",
          "evalue": "ignored",
          "traceback": [
            "\u001b[0;36m  File \u001b[0;32m\"<ipython-input-5-85e5cf1ced52>\"\u001b[0;36m, line \u001b[0;32m4\u001b[0m\n\u001b[0;31m    div = soup.find('td',class='title')\u001b[0m\n\u001b[0m                             ^\u001b[0m\n\u001b[0;31mSyntaxError\u001b[0m\u001b[0;31m:\u001b[0m invalid syntax\n"
          ]
        }
      ]
    },
    {
      "cell_type": "code",
      "metadata": {
        "id": "JnWHnD9kP6up"
      },
      "source": [
        ""
      ],
      "execution_count": null,
      "outputs": []
    }
  ]
}